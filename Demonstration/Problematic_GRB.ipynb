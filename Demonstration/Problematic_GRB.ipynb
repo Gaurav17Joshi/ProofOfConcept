{
 "cells": [
  {
   "attachments": {},
   "cell_type": "markdown",
   "metadata": {},
   "source": [
    "## Problematic GRB\n",
    "This is the GRB 050128, with 2ms time gap between points.\n",
    "Works as expected:-\n",
    "\n",
    "| No of Data Points    | Time Taken |\n",
    "| -------- | -------   |\n",
    "|  20      |  2.2 min   |\n",
    "| 120      |  54 min   |"
   ]
  },
  {
   "cell_type": "markdown",
   "metadata": {},
   "source": [
    "## Loading Dependencies"
   ]
  },
  {
   "cell_type": "code",
   "execution_count": 1,
   "metadata": {},
   "outputs": [
    {
     "name": "stderr",
     "output_type": "stream",
     "text": [
      "/opt/homebrew/anaconda3/lib/python3.9/site-packages/stingray/utils.py:25: UserWarning: pyfftw not installed. Using standard scipy fft\n",
      "  warnings.warn(\"pyfftw not installed. Using standard scipy fft\")\n"
     ]
    }
   ],
   "source": [
    "# Dependencies\n",
    "import numpy as np\n",
    "import matplotlib.pyplot as plt\n",
    "\n",
    "import jax\n",
    "import jax.numpy as jnp\n",
    "import seaborn as sns\n",
    "sns.set_style('whitegrid')\n",
    "\n",
    "from tinygp import GaussianProcess, kernels\n",
    "from stingray import Lightcurve\n",
    "\n",
    "jax.config.update(\"jax_enable_x64\", True)"
   ]
  },
  {
   "cell_type": "markdown",
   "metadata": {},
   "source": [
    "## Loading Data:\n",
    "This code is mainly to pick up the text file of the specified GRB and convert it into a numpy arrays"
   ]
  },
  {
   "cell_type": "code",
   "execution_count": 2,
   "metadata": {},
   "outputs": [],
   "source": [
    "def truncate_data(times: np.ndarray, counts: np.ndarray, start: float, stop: float, yerr: np.ndarray = None) -> tuple:\n",
    "    indices = np.where(np.logical_and(times > start, times < stop))[0]\n",
    "    if yerr is None:\n",
    "        return times[indices], counts[indices]\n",
    "    else:\n",
    "        return times[indices], counts[indices], yerr[indices]\n",
    "\n",
    "def get_grb_data_from_segment(\n",
    "        grb_id: str, grb_binning: str, start_time: float, end_time: float, grb_detector: str = None,\n",
    "        grb_energy_band: str = \"all\", grb_label: str = None, bin_size: str = None, **kwargs) -> tuple:\n",
    "    times, y, yerr = get_all_grb_data(grb_binning=grb_binning, grb_id=grb_id, grb_detector=grb_detector,\n",
    "                                      grb_label=grb_label, grb_energy_band=grb_energy_band, bin_size=bin_size)\n",
    "    return truncate_data(times=times, counts=y, start=start_time, stop=end_time, yerr=yerr)\n",
    "\n",
    "\n",
    "def get_all_grb_data(\n",
    "        grb_id: str, grb_binning: str, grb_detector: str = None, grb_energy_band: str = \"all\", grb_label: str = None,\n",
    "        bin_size: str = None, **kwargs) -> tuple:\n",
    "    if grb_detector in [\"swift\", \"konus\"]:\n",
    "        data_file = f\"data/GRBs/GRB{grb_id}/{grb_binning}_lc_ascii_{grb_detector}.txt\"\n",
    "        data = np.loadtxt(data_file)\n",
    "        times = data[:, 0]\n",
    "        if grb_detector == \"swift\":\n",
    "            if grb_energy_band == \"15-25\":\n",
    "                y = data[:, 1]\n",
    "                yerr = data[:, 2]\n",
    "            elif grb_energy_band == \"25-50\":\n",
    "                y = data[:, 3]\n",
    "                yerr = data[:, 4]\n",
    "            elif grb_energy_band == \"50-100\":\n",
    "                y = data[:, 5]\n",
    "                yerr = data[:, 6]\n",
    "            elif grb_energy_band == \"100-350\":\n",
    "                y = data[:, 7]\n",
    "                yerr = data[:, 8]\n",
    "            elif grb_energy_band in [\"all\", \"15-350\"]:\n",
    "                y = data[:, 9]\n",
    "                yerr = data[:, 10]\n",
    "            else:\n",
    "                raise ValueError(f\"Energy band {grb_energy_band} not understood\")\n",
    "            return times, y, yerr\n",
    "        elif grb_detector == \"konus\":\n",
    "            y = data[:, 1]\n",
    "            return times, y, np.sqrt(y)\n",
    "    elif grb_detector == \"batse\":\n",
    "        data_file = f\"data/GRBs/GRB{grb_id}/GRB{grb_id}_{grb_energy_band}\"\n",
    "        data = np.loadtxt(data_file)\n",
    "        times = data[:, 0]\n",
    "        y = data[:, 1]\n",
    "        yerr = np.sqrt(y)\n",
    "        return times, y, yerr\n",
    "    elif grb_detector.lower() == \"asim\":\n",
    "        data_file = f\"data/GRBs/GRB{grb_id}/{grb_label}.txt\"\n",
    "        ttes = np.loadtxt(data_file)\n",
    "        y, bin_edges = np.histogram(ttes, np.arange(ttes[0], ttes[-1], bin_size))\n",
    "        times = np.array([bin_edges[i] + (bin_edges[i + 1] - bin_edges[i]) / 2 for i in range(len(bin_edges) - 1)])\n",
    "        yerr = np.sqrt(y)\n",
    "        return times, y, yerr\n",
    "    \n",
    "_GRB_RUN_MODES = dict(select_time=get_grb_data_from_segment,\n",
    "                      entire_segment=get_all_grb_data)\n",
    "\n",
    "def get_grb_data(run_mode: str, **kwargs) -> tuple:\n",
    "    \"\"\" Catch all function \"\"\"\n",
    "    return _GRB_RUN_MODES[run_mode](**kwargs)"
   ]
  },
  {
   "cell_type": "markdown",
   "metadata": {},
   "source": [
    "## Labels for our GRB"
   ]
  },
  {
   "cell_type": "code",
   "execution_count": 3,
   "metadata": {},
   "outputs": [],
   "source": [
    "grb_id = \"090709A\"\n",
    "grb_label = \"\"\n",
    "grb_binning = \"1s\"\n",
    "grb_detector = \"swift\"\n",
    "grb_energy_band = \"all\"\n",
    "\n",
    "times, y, yerr = get_all_grb_data(\n",
    "        grb_id = grb_id, grb_binning = grb_binning, grb_detector = grb_detector, \n",
    "        grb_energy_band = grb_energy_band, grb_label= grb_label,\n",
    "        bin_size= None)"
   ]
  },
  {
   "cell_type": "code",
   "execution_count": 4,
   "metadata": {},
   "outputs": [
    {
     "name": "stdout",
     "output_type": "stream",
     "text": [
      "(782,) (782,) (782,)\n"
     ]
    }
   ],
   "source": [
    "print(times.shape, y.shape, yerr.shape)"
   ]
  },
  {
   "cell_type": "markdown",
   "metadata": {},
   "source": [
    "#### Plotting the Total Lightcurve\n",
    "Has a 782 points"
   ]
  },
  {
   "cell_type": "code",
   "execution_count": 5,
   "metadata": {},
   "outputs": [
    {
     "data": {
      "text/plain": [
       "<ErrorbarContainer object of 3 artists>"
      ]
     },
     "execution_count": 5,
     "metadata": {},
     "output_type": "execute_result"
    },
    {
     "data": {
      "image/png": "[encoded data removed]",
      "text/plain": [
       "<Figure size 1400x600 with 1 Axes>"
      ]
     },
     "metadata": {},
     "output_type": "display_data"
    }
   ],
   "source": [
    "fig, ax = plt.subplots(1,1, figsize = (14,6))\n",
    "ax.errorbar(times, y, yerr=yerr, fmt=\".k\", capsize=0, label=\"data\")"
   ]
  },
  {
   "cell_type": "markdown",
   "metadata": {},
   "source": [
    "## Slicing the GRB\n",
    "Here We can slice the data by putting the start and end time that we want to use\n",
    "\n",
    "**Saved as times2, y2, yerr2**\n",
    "\n",
    "Example from t = -10.0 to t = +110.0\n",
    "This will give us a lightcurve of 120 points"
   ]
  },
  {
   "cell_type": "code",
   "execution_count": 6,
   "metadata": {},
   "outputs": [
    {
     "name": "stdout",
     "output_type": "stream",
     "text": [
      "(120,) (120,) (120,)\n"
     ]
    }
   ],
   "source": [
    "times2, y2, yerr2 = get_grb_data_from_segment(\n",
    "        grb_id = grb_id, grb_binning = grb_binning, start_time = -10.0, end_time = +110, grb_detector = grb_detector,\n",
    "        grb_energy_band = grb_energy_band, grb_label = grb_label, bin_size= None)\n",
    "print(times2.shape, y2.shape, yerr2.shape)"
   ]
  },
  {
   "cell_type": "code",
   "execution_count": 7,
   "metadata": {},
   "outputs": [
    {
     "data": {
      "text/plain": [
       "<ErrorbarContainer object of 3 artists>"
      ]
     },
     "execution_count": 7,
     "metadata": {},
     "output_type": "execute_result"
    },
    {
     "data": {
      "image/png": "[encoded data removed]",
      "text/plain": [
       "<Figure size 1400x600 with 1 Axes>"
      ]
     },
     "metadata": {},
     "output_type": "display_data"
    }
   ],
   "source": [
    "fig, ax = plt.subplots(1,1, figsize = (14,6))\n",
    "ax.errorbar(times2, y2, yerr=yerr2, fmt=\".k\", capsize=0, label=\"data\")"
   ]
  },
  {
   "cell_type": "markdown",
   "metadata": {},
   "source": [
    "## Posterior Sampling\n",
    "\n",
    "For sliced data (120 points) using **times2, y2, yerr2**.\n",
    "\n",
    "Stopped the sampling as it took a lot of time."
   ]
  },
  {
   "cell_type": "code",
   "execution_count": 17,
   "metadata": {},
   "outputs": [
    {
     "name": "stdout",
     "output_type": "stream",
     "text": [
      "['arn', 'crn', 'aqpo', 'cqpo', 'freq', 'A', 't0', 'sig']\n"
     ]
    }
   ],
   "source": [
    "# Dependencies\n",
    "import warnings\n",
    "warnings.filterwarnings(\"ignore\")\n",
    "import tensorflow_probability.substrates.jax as tfp\n",
    "from gpmodelling import get_prior, get_likelihood, get_gp_params, get_kernel, get_mean\n",
    "tfpd = tfp.distributions\n",
    "tfpb = tfp.bijectors\n",
    "\n",
    "from jaxns import Prior\n",
    "from jaxns.special_priors import ForcedIdentifiability\n",
    "from jaxns.types import float_type\n",
    "\n",
    "params_list2 = get_gp_params(kernel_type= \"QPO_plus_RN\", mean_type = \"gaussian\")\n",
    "print(params_list2)"
   ]
  },
  {
   "cell_type": "code",
   "execution_count": 18,
   "metadata": {},
   "outputs": [],
   "source": [
    "params_list = get_gp_params(kernel_type= \"QPO_plus_RN\", mean_type = \"gaussian\")\n",
    "\n",
    "counts2 = y2\n",
    "total_time = times2[-1] - times2[0]\n",
    "f = 1/(times2[1]- times2[0])\n",
    "span = jnp.max(counts2) - jnp.min(counts2)\n",
    "\n",
    "prior_dict = {\n",
    "    \"A\": tfpd.Uniform(low = 0.1 * span, high= 2 * span),\n",
    "    \"t0\": tfpd.Uniform(low = times2[0] - 0.1*total_time, high = times2[-1] + 0.1*total_time),\n",
    "    \"sig\": tfpd.Uniform(low = 0.5 * 1 / f, high = 2 * total_time),\n",
    "\n",
    "    \"arn\": tfpd.Uniform(low = 0.1 * span, high = 2 * span),\n",
    "    \"crn\": tfpd.Uniform(low = jnp.log(1 / total_time), high = jnp.log(f)),\n",
    "    \n",
    "    \"aqpo\": tfpd.Uniform(low = 0.1 * span, high = 2 * span),\n",
    "    \"cqpo\": tfpd.Uniform(low = 1/10/total_time, high = jnp.log(f)),\n",
    "    \"freq\": tfpd.Uniform(low = 2 , high = f/4 ),\n",
    "}\n",
    "\n",
    "prior_model4 = get_prior(params_list, prior_dict)\n",
    "\n",
    "likelihood_model4 = get_likelihood(params_list, kernel_type= \"QPO_plus_RN\", mean_type = \"gaussian\", Times = times2, counts = counts2)"
   ]
  },
  {
   "cell_type": "code",
   "execution_count": 19,
   "metadata": {},
   "outputs": [
    {
     "name": "stderr",
     "output_type": "stream",
     "text": [
      "INFO[2023-08-03 00:05:25,163]: Sanity check...\n",
      "INFO[2023-08-03 00:05:25,588]: Sanity check passed\n"
     ]
    },
    {
     "ename": "XlaRuntimeError",
     "evalue": "INTERNAL: Generated function failed: CpuCallback error: KeyboardInterrupt: <EMPTY MESSAGE>\n\nAt:\n  <__array_function__ internals>(4): diff\n  /opt/homebrew/anaconda3/lib/python3.9/site-packages/tinygp/solvers/quasisep/solver.py(141): _check_sorted\n  /opt/homebrew/anaconda3/lib/python3.9/site-packages/jax/_src/debugging.py(227): _flat_callback\n  /opt/homebrew/anaconda3/lib/python3.9/site-packages/jax/_src/debugging.py(85): debug_callback_impl\n  /opt/homebrew/anaconda3/lib/python3.9/site-packages/jax/_src/debugging.py(146): _callback\n  /opt/homebrew/anaconda3/lib/python3.9/site-packages/jax/_src/interpreters/mlir.py(1833): _wrapped_callback\n  /opt/homebrew/anaconda3/lib/python3.9/site-packages/jax/_src/interpreters/pxla.py(2172): __call__\n  /opt/homebrew/anaconda3/lib/python3.9/site-packages/jax/_src/profiler.py(314): wrapper\n  /opt/homebrew/anaconda3/lib/python3.9/site-packages/jax/_src/pjit.py(1314): _pjit_call_impl\n  /opt/homebrew/anaconda3/lib/python3.9/site-packages/jax/_src/core.py(807): process_primitive\n  /opt/homebrew/anaconda3/lib/python3.9/site-packages/jax/_src/core.py(363): bind_with_trace\n  /opt/homebrew/anaconda3/lib/python3.9/site-packages/jax/_src/core.py(2577): bind\n  /opt/homebrew/anaconda3/lib/python3.9/site-packages/jax/_src/pjit.py(184): _python_pjit_helper\n  /opt/homebrew/anaconda3/lib/python3.9/site-packages/jax/_src/pjit.py(235): cache_miss\n  /opt/homebrew/anaconda3/lib/python3.9/site-packages/jax/_src/traceback_util.py(166): reraise_with_filtered_traceback\n  /opt/homebrew/anaconda3/lib/python3.9/site-packages/jaxns/nested_sampler.py(313): __call__\n  /opt/homebrew/anaconda3/lib/python3.9/site-packages/jaxns/nested_sampler.py(400): __call__\n  /var/folders/z9/d9jc5k554dl6jd5l6z3_h5f80000gn/T/ipykernel_61946/1828580543.py(8): <cell line: 8>\n  /opt/homebrew/anaconda3/lib/python3.9/site-packages/IPython/core/interactiveshell.py(3398): run_code\n  /opt/homebrew/anaconda3/lib/python3.9/site-packages/IPython/core/interactiveshell.py(3338): run_ast_nodes\n  /opt/homebrew/anaconda3/lib/python3.9/site-packages/IPython/core/interactiveshell.py(3135): run_cell_async\n  /opt/homebrew/anaconda3/lib/python3.9/site-packages/IPython/core/async_helpers.py(129): _pseudo_sync_runner\n  /opt/homebrew/anaconda3/lib/python3.9/site-packages/IPython/core/interactiveshell.py(2936): _run_cell\n  /opt/homebrew/anaconda3/lib/python3.9/site-packages/IPython/core/interactiveshell.py(2881): run_cell\n  /opt/homebrew/anaconda3/lib/python3.9/site-packages/ipykernel/zmqshell.py(528): run_cell\n  /opt/homebrew/anaconda3/lib/python3.9/site-packages/ipykernel/ipkernel.py(383): do_execute\n  /opt/homebrew/anaconda3/lib/python3.9/site-packages/ipykernel/kernelbase.py(730): execute_request\n  /opt/homebrew/anaconda3/lib/python3.9/site-packages/ipykernel/kernelbase.py(406): dispatch_shell\n  /opt/homebrew/anaconda3/lib/python3.9/site-packages/ipykernel/kernelbase.py(499): process_one\n  /opt/homebrew/anaconda3/lib/python3.9/site-packages/ipykernel/kernelbase.py(510): dispatch_queue\n  /opt/homebrew/anaconda3/lib/python3.9/asyncio/events.py(80): _run\n  /opt/homebrew/anaconda3/lib/python3.9/asyncio/base_events.py(1905): _run_once\n  /opt/homebrew/anaconda3/lib/python3.9/asyncio/base_events.py(601): run_forever\n  /opt/homebrew/anaconda3/lib/python3.9/site-packages/tornado/platform/asyncio.py(199): start\n  /opt/homebrew/anaconda3/lib/python3.9/site-packages/ipykernel/kernelapp.py(712): start\n  /opt/homebrew/anaconda3/lib/python3.9/site-packages/traitlets/config/application.py(846): launch_instance\n  /opt/homebrew/anaconda3/lib/python3.9/site-packages/ipykernel_launcher.py(17): <module>\n  /opt/homebrew/anaconda3/lib/python3.9/runpy.py(87): _run_code\n  /opt/homebrew/anaconda3/lib/python3.9/runpy.py(197): _run_module_as_main\n",
     "output_type": "error",
     "traceback": [
      "\u001b[0;31m---------------------------------------------------------------------------\u001b[0m",
      "\u001b[0;31mXlaRuntimeError\u001b[0m                           Traceback (most recent call last)",
      "\u001b[1;32m/Users/gaurav/Desktop/Open_Source/ProofOfConcept/Real_data/real_data1.ipynb Cell 16\u001b[0m in \u001b[0;36m<cell line: 8>\u001b[0;34m()\u001b[0m\n\u001b[1;32m      <a href='vscode-notebook-cell:/Users/gaurav/Desktop/Open_Source/ProofOfConcept/Real_data/real_data1.ipynb#X20sZmlsZQ%3D%3D?line=4'>5</a>\u001b[0m NSmodel\u001b[39m.\u001b[39msanity_check(random\u001b[39m.\u001b[39mPRNGKey(\u001b[39m10\u001b[39m), S\u001b[39m=\u001b[39m\u001b[39m100\u001b[39m)\n\u001b[1;32m      <a href='vscode-notebook-cell:/Users/gaurav/Desktop/Open_Source/ProofOfConcept/Real_data/real_data1.ipynb#X20sZmlsZQ%3D%3D?line=6'>7</a>\u001b[0m Exact_ns \u001b[39m=\u001b[39m ExactNestedSampler(NSmodel, num_live_points\u001b[39m=\u001b[39m\u001b[39m500\u001b[39m, max_samples\u001b[39m=\u001b[39m\u001b[39m1e4\u001b[39m)\n\u001b[0;32m----> <a href='vscode-notebook-cell:/Users/gaurav/Desktop/Open_Source/ProofOfConcept/Real_data/real_data1.ipynb#X20sZmlsZQ%3D%3D?line=7'>8</a>\u001b[0m Termination_reason, State \u001b[39m=\u001b[39m Exact_ns(\n\u001b[1;32m      <a href='vscode-notebook-cell:/Users/gaurav/Desktop/Open_Source/ProofOfConcept/Real_data/real_data1.ipynb#X20sZmlsZQ%3D%3D?line=8'>9</a>\u001b[0m     random\u001b[39m.\u001b[39;49mPRNGKey(\u001b[39m42\u001b[39;49m), term_cond\u001b[39m=\u001b[39;49mTerminationCondition(live_evidence_frac\u001b[39m=\u001b[39;49m\u001b[39m1e-4\u001b[39;49m)\n\u001b[1;32m     <a href='vscode-notebook-cell:/Users/gaurav/Desktop/Open_Source/ProofOfConcept/Real_data/real_data1.ipynb#X20sZmlsZQ%3D%3D?line=9'>10</a>\u001b[0m )\n\u001b[1;32m     <a href='vscode-notebook-cell:/Users/gaurav/Desktop/Open_Source/ProofOfConcept/Real_data/real_data1.ipynb#X20sZmlsZQ%3D%3D?line=10'>11</a>\u001b[0m Results \u001b[39m=\u001b[39m Exact_ns\u001b[39m.\u001b[39mto_results(State, Termination_reason)\n\u001b[1;32m     <a href='vscode-notebook-cell:/Users/gaurav/Desktop/Open_Source/ProofOfConcept/Real_data/real_data1.ipynb#X20sZmlsZQ%3D%3D?line=11'>12</a>\u001b[0m \u001b[39mprint\u001b[39m(\u001b[39m\"\u001b[39m\u001b[39mSimulation Complete\u001b[39m\u001b[39m\"\u001b[39m)\n",
      "File \u001b[0;32m/opt/homebrew/anaconda3/lib/python3.9/site-packages/jaxns/nested_sampler.py:400\u001b[0m, in \u001b[0;36mExactNestedSampler.__call__\u001b[0;34m(self, key, term_cond, init_state, live_points)\u001b[0m\n\u001b[1;32m    397\u001b[0m \u001b[39mif\u001b[39;00m \u001b[39misinstance\u001b[39m(key, core\u001b[39m.\u001b[39mTracer):\n\u001b[1;32m    398\u001b[0m     \u001b[39mraise\u001b[39;00m \u001b[39mRuntimeError\u001b[39;00m(\u001b[39m\"\u001b[39m\u001b[39mTracer detected, but expected imperative context.\u001b[39m\u001b[39m\"\u001b[39m)\n\u001b[0;32m--> 400\u001b[0m termination_reason, state \u001b[39m=\u001b[39m \u001b[39mself\u001b[39;49m\u001b[39m.\u001b[39;49mapproximate_sampler(key\u001b[39m=\u001b[39;49mkey, term_cond\u001b[39m=\u001b[39;49mterm_cond, init_state\u001b[39m=\u001b[39;49minit_state,\n\u001b[1;32m    401\u001b[0m                                                      live_points\u001b[39m=\u001b[39;49mlive_points)\n\u001b[1;32m    402\u001b[0m state \u001b[39m=\u001b[39m \u001b[39mself\u001b[39m\u001b[39m.\u001b[39mimprovement(state\u001b[39m=\u001b[39mstate)\n\u001b[1;32m    404\u001b[0m \u001b[39mreturn\u001b[39;00m termination_reason, state\n",
      "File \u001b[0;32m/opt/homebrew/anaconda3/lib/python3.9/site-packages/jaxns/nested_sampler.py:313\u001b[0m, in \u001b[0;36mApproximateNestedSampler.__call__\u001b[0;34m(self, key, term_cond, init_state, live_points)\u001b[0m\n\u001b[1;32m    310\u001b[0m     term_cond \u001b[39m=\u001b[39m term_cond\u001b[39m.\u001b[39m_replace(max_samples\u001b[39m=\u001b[39mjnp\u001b[39m.\u001b[39mminimum(\u001b[39mself\u001b[39m\u001b[39m.\u001b[39mmax_samples, term_cond\u001b[39m.\u001b[39mmax_samples))\n\u001b[1;32m    311\u001b[0m \u001b[39mif\u001b[39;00m init_state \u001b[39mis\u001b[39;00m \u001b[39mNone\u001b[39;00m:\n\u001b[1;32m    312\u001b[0m     \u001b[39m# We create fresh live points and state\u001b[39;00m\n\u001b[0;32m--> 313\u001b[0m     termination_reason, state \u001b[39m=\u001b[39m \u001b[39mself\u001b[39;49m\u001b[39m.\u001b[39;49mfresh_run(key\u001b[39m=\u001b[39;49mkey, term_cond\u001b[39m=\u001b[39;49mterm_cond)\n\u001b[1;32m    314\u001b[0m \u001b[39melse\u001b[39;00m:\n\u001b[1;32m    315\u001b[0m     \u001b[39mif\u001b[39;00m live_points \u001b[39mis\u001b[39;00m \u001b[39mNone\u001b[39;00m:\n\u001b[1;32m    316\u001b[0m         \u001b[39m# We create a fresh set of live points from -inf contour and run on top of init_state\u001b[39;00m\n",
      "    \u001b[0;31m[... skipping hidden 8 frame]\u001b[0m\n",
      "File \u001b[0;32m/opt/homebrew/anaconda3/lib/python3.9/site-packages/jax/_src/interpreters/pxla.py:2172\u001b[0m, in \u001b[0;36mExecuteReplicated.__call__\u001b[0;34m(self, *args)\u001b[0m\n\u001b[1;32m   2169\u001b[0m \u001b[39mif\u001b[39;00m (\u001b[39mself\u001b[39m\u001b[39m.\u001b[39mordered_effects \u001b[39mor\u001b[39;00m \u001b[39mself\u001b[39m\u001b[39m.\u001b[39mhas_unordered_effects\n\u001b[1;32m   2170\u001b[0m     \u001b[39mor\u001b[39;00m \u001b[39mself\u001b[39m\u001b[39m.\u001b[39mhas_host_callbacks):\n\u001b[1;32m   2171\u001b[0m   input_bufs \u001b[39m=\u001b[39m \u001b[39mself\u001b[39m\u001b[39m.\u001b[39m_add_tokens_to_inputs(input_bufs)\n\u001b[0;32m-> 2172\u001b[0m   results \u001b[39m=\u001b[39m \u001b[39mself\u001b[39;49m\u001b[39m.\u001b[39;49mxla_executable\u001b[39m.\u001b[39;49mexecute_sharded(\n\u001b[1;32m   2173\u001b[0m       input_bufs, with_tokens\u001b[39m=\u001b[39;49m\u001b[39mTrue\u001b[39;49;00m\n\u001b[1;32m   2174\u001b[0m   )\n\u001b[1;32m   2175\u001b[0m   \u001b[39mself\u001b[39m\u001b[39m.\u001b[39m_handle_token_bufs(\n\u001b[1;32m   2176\u001b[0m       results\u001b[39m.\u001b[39mdisassemble_prefix_into_single_device_arrays(\n\u001b[1;32m   2177\u001b[0m           \u001b[39mlen\u001b[39m(\u001b[39mself\u001b[39m\u001b[39m.\u001b[39mordered_effects)),\n\u001b[1;32m   2178\u001b[0m       results\u001b[39m.\u001b[39mconsume_token())\n\u001b[1;32m   2179\u001b[0m \u001b[39melse\u001b[39;00m:\n",
      "\u001b[0;31mXlaRuntimeError\u001b[0m: INTERNAL: Generated function failed: CpuCallback error: KeyboardInterrupt: <EMPTY MESSAGE>\n\nAt:\n  <__array_function__ internals>(4): diff\n  /opt/homebrew/anaconda3/lib/python3.9/site-packages/tinygp/solvers/quasisep/solver.py(141): _check_sorted\n  /opt/homebrew/anaconda3/lib/python3.9/site-packages/jax/_src/debugging.py(227): _flat_callback\n  /opt/homebrew/anaconda3/lib/python3.9/site-packages/jax/_src/debugging.py(85): debug_callback_impl\n  /opt/homebrew/anaconda3/lib/python3.9/site-packages/jax/_src/debugging.py(146): _callback\n  /opt/homebrew/anaconda3/lib/python3.9/site-packages/jax/_src/interpreters/mlir.py(1833): _wrapped_callback\n  /opt/homebrew/anaconda3/lib/python3.9/site-packages/jax/_src/interpreters/pxla.py(2172): __call__\n  /opt/homebrew/anaconda3/lib/python3.9/site-packages/jax/_src/profiler.py(314): wrapper\n  /opt/homebrew/anaconda3/lib/python3.9/site-packages/jax/_src/pjit.py(1314): _pjit_call_impl\n  /opt/homebrew/anaconda3/lib/python3.9/site-packages/jax/_src/core.py(807): process_primitive\n  /opt/homebrew/anaconda3/lib/python3.9/site-packages/jax/_src/core.py(363): bind_with_trace\n  /opt/homebrew/anaconda3/lib/python3.9/site-packages/jax/_src/core.py(2577): bind\n  /opt/homebrew/anaconda3/lib/python3.9/site-packages/jax/_src/pjit.py(184): _python_pjit_helper\n  /opt/homebrew/anaconda3/lib/python3.9/site-packages/jax/_src/pjit.py(235): cache_miss\n  /opt/homebrew/anaconda3/lib/python3.9/site-packages/jax/_src/traceback_util.py(166): reraise_with_filtered_traceback\n  /opt/homebrew/anaconda3/lib/python3.9/site-packages/jaxns/nested_sampler.py(313): __call__\n  /opt/homebrew/anaconda3/lib/python3.9/site-packages/jaxns/nested_sampler.py(400): __call__\n  /var/folders/z9/d9jc5k554dl6jd5l6z3_h5f80000gn/T/ipykernel_61946/1828580543.py(8): <cell line: 8>\n  /opt/homebrew/anaconda3/lib/python3.9/site-packages/IPython/core/interactiveshell.py(3398): run_code\n  /opt/homebrew/anaconda3/lib/python3.9/site-packages/IPython/core/interactiveshell.py(3338): run_ast_nodes\n  /opt/homebrew/anaconda3/lib/python3.9/site-packages/IPython/core/interactiveshell.py(3135): run_cell_async\n  /opt/homebrew/anaconda3/lib/python3.9/site-packages/IPython/core/async_helpers.py(129): _pseudo_sync_runner\n  /opt/homebrew/anaconda3/lib/python3.9/site-packages/IPython/core/interactiveshell.py(2936): _run_cell\n  /opt/homebrew/anaconda3/lib/python3.9/site-packages/IPython/core/interactiveshell.py(2881): run_cell\n  /opt/homebrew/anaconda3/lib/python3.9/site-packages/ipykernel/zmqshell.py(528): run_cell\n  /opt/homebrew/anaconda3/lib/python3.9/site-packages/ipykernel/ipkernel.py(383): do_execute\n  /opt/homebrew/anaconda3/lib/python3.9/site-packages/ipykernel/kernelbase.py(730): execute_request\n  /opt/homebrew/anaconda3/lib/python3.9/site-packages/ipykernel/kernelbase.py(406): dispatch_shell\n  /opt/homebrew/anaconda3/lib/python3.9/site-packages/ipykernel/kernelbase.py(499): process_one\n  /opt/homebrew/anaconda3/lib/python3.9/site-packages/ipykernel/kernelbase.py(510): dispatch_queue\n  /opt/homebrew/anaconda3/lib/python3.9/asyncio/events.py(80): _run\n  /opt/homebrew/anaconda3/lib/python3.9/asyncio/base_events.py(1905): _run_once\n  /opt/homebrew/anaconda3/lib/python3.9/asyncio/base_events.py(601): run_forever\n  /opt/homebrew/anaconda3/lib/python3.9/site-packages/tornado/platform/asyncio.py(199): start\n  /opt/homebrew/anaconda3/lib/python3.9/site-packages/ipykernel/kernelapp.py(712): start\n  /opt/homebrew/anaconda3/lib/python3.9/site-packages/traitlets/config/application.py(846): launch_instance\n  /opt/homebrew/anaconda3/lib/python3.9/site-packages/ipykernel_launcher.py(17): <module>\n  /opt/homebrew/anaconda3/lib/python3.9/runpy.py(87): _run_code\n  /opt/homebrew/anaconda3/lib/python3.9/runpy.py(197): _run_module_as_main\n"
     ]
    }
   ],
   "source": [
    "from jaxns import ExactNestedSampler, TerminationCondition, Prior, Model\n",
    "from jax import random\n",
    "\n",
    "NSmodel = Model(prior_model=prior_model4, log_likelihood=likelihood_model4)\n",
    "NSmodel.sanity_check(random.PRNGKey(10), S=100)\n",
    "\n",
    "Exact_ns = ExactNestedSampler(NSmodel, num_live_points=500, max_samples=1e4)\n",
    "Termination_reason, State = Exact_ns(\n",
    "    random.PRNGKey(42), term_cond=TerminationCondition(live_evidence_frac=1e-4)\n",
    ")\n",
    "Results = Exact_ns.to_results(State, Termination_reason)\n",
    "print(\"Simulation Complete\")"
   ]
  }
 ],
 "metadata": {
  "kernelspec": {
   "display_name": "Python 3",
   "language": "python",
   "name": "python3"
  },
  "language_info": {
   "codemirror_mode": {
    "name": "ipython",
    "version": 3
   },
   "file_extension": ".py",
   "mimetype": "text/x-python",
   "name": "python",
   "nbconvert_exporter": "python",
   "pygments_lexer": "ipython3",
   "version": "3.9.13"
  },
  "orig_nbformat": 4
 },
 "nbformat": 4,
 "nbformat_minor": 2
}
