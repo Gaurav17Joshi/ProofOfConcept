{
 "cells": [
  {
   "attachments": {},
   "cell_type": "markdown",
   "metadata": {},
   "source": [
    "Making a windowed prior"
   ]
  },
  {
   "cell_type": "code",
   "execution_count": 1,
   "metadata": {},
   "outputs": [
    {
     "name": "stderr",
     "output_type": "stream",
     "text": [
      "/opt/homebrew/anaconda3/lib/python3.9/site-packages/stingray/utils.py:25: UserWarning: pyfftw not installed. Using standard scipy fft\n",
      "  warnings.warn(\"pyfftw not installed. Using standard scipy fft\")\n"
     ]
    }
   ],
   "source": [
    "import jax\n",
    "jax.config.update(\"jax_enable_x64\", True)\n",
    "import jax.numpy as jnp\n",
    "import numpy as np\n",
    "import matplotlib.pyplot as plt\n",
    "import tinygp\n",
    "from tinygp import GaussianProcess, kernels\n",
    "from stingray import Lightcurve\n",
    "jax.config.update(\"jax_enable_x64\", True)\n",
    "import functools"
   ]
  },
  {
   "cell_type": "code",
   "execution_count": 7,
   "metadata": {},
   "outputs": [],
   "source": [
    "# Making the Data:\n",
    "from gpmodelling import get_kernel, get_mean\n",
    "import warnings\n",
    "warnings.filterwarnings(\"ignore\")\n",
    "\n",
    "Times = np.linspace(0,1,256)\n",
    "hqpoparams = {\n",
    "    \"arn\" : jnp.exp(1.0),    \"crn\" : jnp.exp(1.0),\n",
    "    \"aqpo\": jnp.exp(-0.4),    \"cqpo\": jnp.exp(1),    \"freq\": 20,}\n",
    "mean_params = {\"A\" : 3,    \"t0\" : 0.5,    \"sig\" : 0.2,}\n",
    "kernel = get_kernel(kernel_type = \"QPO_plus_RN\", kernel_params = hqpoparams)\n",
    "mean = get_mean(mean_type = \"gaussian\",  mean_params = mean_params)\n",
    "\n",
    "gp = GaussianProcess(kernel = kernel, X = Times, mean_value = mean(Times))\n",
    "\n",
    "counts = gp.sample(key = jax.random.PRNGKey(6))"
   ]
  },
  {
   "cell_type": "code",
   "execution_count": 40,
   "metadata": {},
   "outputs": [
    {
     "name": "stdout",
     "output_type": "stream",
     "text": [
      "log prob:  -58.273614459545655\n",
      "log prob windowed:  -26.10427910528807\n",
      "(256,)\n",
      "log prob wind :  63.80927271414357\n"
     ]
    }
   ],
   "source": [
    "# Trying out tinygp:\n",
    "print(\"log prob: \", gp.log_probability(counts)) \n",
    "\n",
    "window_minimum = 0.2; a = jnp.searchsorted(Times, window_minimum)\n",
    "window_maximum = 0.65; b = jnp.searchsorted(Times, window_maximum)\n",
    "\n",
    "gp2 = GaussianProcess(kernel = kernel, X = Times[a:b], mean_value = mean(Times[a:b]))\n",
    "print(\"log prob windowed: \", gp2.log_probability(counts[a:b]))\n",
    "\n",
    "wind_counts = jnp.where((Times < window_minimum) & (Times > window_maximum), counts, 0)\n",
    "print(wind_counts.shape)\n",
    "print(\"log prob wind : \", gp.log_probability(wind_counts))\n"
   ]
  },
  {
   "cell_type": "code",
   "execution_count": 8,
   "metadata": {},
   "outputs": [],
   "source": [
    "# Calculating evidences using jaxns\n",
    "import tensorflow_probability.substrates.jax as tfp\n",
    "from jax import random, numpy as jnp\n",
    "from jaxns import ExactNestedSampler, TerminationCondition, analytic_log_evidence, Prior, Model\n",
    "from jaxns.special_priors import ForcedIdentifiability\n",
    "\n",
    "tfpd = tfp.distributions"
   ]
  },
  {
   "cell_type": "code",
   "execution_count": 28,
   "metadata": {},
   "outputs": [
    {
     "name": "stdout",
     "output_type": "stream",
     "text": [
      "Traced<ShapedArray(int32[])>with<BatchTrace(level=2/0)> with\n",
      "  val = Traced<ShapedArray(int32[100])>with<DynamicJaxprTrace(level=1/0)>\n",
      "  batch_dim = 0\n"
     ]
    },
    {
     "ename": "TypeError",
     "evalue": "Shapes must be 1D sequences of concrete values of integer type, got (Traced<ShapedArray(int32[])>with<BatchTrace(level=2/0)> with\n  val = Traced<ShapedArray(int32[100])>with<DynamicJaxprTrace(level=1/0)>\n  batch_dim = 0,).\nIf using `jit`, try using `static_argnums` or applying `jit` to smaller subfunctions.\nThis BatchTracer with object id 11101559040 was created on line:\n  /var/folders/z9/d9jc5k554dl6jd5l6z3_h5f80000gn/T/ipykernel_93247/3202572062.py:80 (RNlog_likelihood5)",
     "output_type": "error",
     "traceback": [
      "\u001b[0;31m---------------------------------------------------------------------------\u001b[0m",
      "\u001b[0;31mTypeError\u001b[0m                                 Traceback (most recent call last)",
      "\u001b[1;32m/Users/gaurav/Desktop/Open_Source/ProofOfConcept/Latest_files/Windowed_Prior.ipynb Cell 5\u001b[0m in \u001b[0;36m<cell line: 90>\u001b[0;34m()\u001b[0m\n\u001b[1;32m     <a href='vscode-notebook-cell:/Users/gaurav/Desktop/Open_Source/ProofOfConcept/Latest_files/Windowed_Prior.ipynb#W4sZmlsZQ%3D%3D?line=86'>87</a>\u001b[0m     \u001b[39mreturn\u001b[39;00m gp\u001b[39m.\u001b[39mlog_probability(count)\n\u001b[1;32m     <a href='vscode-notebook-cell:/Users/gaurav/Desktop/Open_Source/ProofOfConcept/Latest_files/Windowed_Prior.ipynb#W4sZmlsZQ%3D%3D?line=88'>89</a>\u001b[0m model \u001b[39m=\u001b[39m Model(prior_model\u001b[39m=\u001b[39mRNprior_model, log_likelihood\u001b[39m=\u001b[39mRNlog_likelihood5)\n\u001b[0;32m---> <a href='vscode-notebook-cell:/Users/gaurav/Desktop/Open_Source/ProofOfConcept/Latest_files/Windowed_Prior.ipynb#W4sZmlsZQ%3D%3D?line=89'>90</a>\u001b[0m model\u001b[39m.\u001b[39;49msanity_check(random\u001b[39m.\u001b[39;49mPRNGKey(\u001b[39m10\u001b[39;49m), S\u001b[39m=\u001b[39;49m\u001b[39m100\u001b[39;49m)\n",
      "File \u001b[0;32m/opt/homebrew/anaconda3/lib/python3.9/site-packages/jaxns/model.py:104\u001b[0m, in \u001b[0;36mModel.sanity_check\u001b[0;34m(self, key, S)\u001b[0m\n\u001b[1;32m    102\u001b[0m \u001b[39mdef\u001b[39;00m \u001b[39msanity_check\u001b[39m(\u001b[39mself\u001b[39m, key: PRNGKey, S: \u001b[39mint\u001b[39m):\n\u001b[1;32m    103\u001b[0m     U \u001b[39m=\u001b[39m jit(vmap(\u001b[39mself\u001b[39m\u001b[39m.\u001b[39msample_U))(random\u001b[39m.\u001b[39msplit(key, S))\n\u001b[0;32m--> 104\u001b[0m     log_L \u001b[39m=\u001b[39m jit(vmap(\u001b[39mlambda\u001b[39;49;00m u: \u001b[39mself\u001b[39;49m\u001b[39m.\u001b[39;49mforward(u, allow_nan\u001b[39m=\u001b[39;49m\u001b[39mTrue\u001b[39;49;00m)))(U)\n\u001b[1;32m    105\u001b[0m     logger\u001b[39m.\u001b[39minfo(\u001b[39m\"\u001b[39m\u001b[39mSanity check...\u001b[39m\u001b[39m\"\u001b[39m)\n\u001b[1;32m    106\u001b[0m     \u001b[39mfor\u001b[39;00m _U, _log_L \u001b[39min\u001b[39;00m \u001b[39mzip\u001b[39m(U, log_L):\n",
      "    \u001b[0;31m[... skipping hidden 15 frame]\u001b[0m\n",
      "File \u001b[0;32m/opt/homebrew/anaconda3/lib/python3.9/site-packages/jaxns/model.py:104\u001b[0m, in \u001b[0;36mModel.sanity_check.<locals>.<lambda>\u001b[0;34m(u)\u001b[0m\n\u001b[1;32m    102\u001b[0m \u001b[39mdef\u001b[39;00m \u001b[39msanity_check\u001b[39m(\u001b[39mself\u001b[39m, key: PRNGKey, S: \u001b[39mint\u001b[39m):\n\u001b[1;32m    103\u001b[0m     U \u001b[39m=\u001b[39m jit(vmap(\u001b[39mself\u001b[39m\u001b[39m.\u001b[39msample_U))(random\u001b[39m.\u001b[39msplit(key, S))\n\u001b[0;32m--> 104\u001b[0m     log_L \u001b[39m=\u001b[39m jit(vmap(\u001b[39mlambda\u001b[39;00m u: \u001b[39mself\u001b[39;49m\u001b[39m.\u001b[39;49mforward(u, allow_nan\u001b[39m=\u001b[39;49m\u001b[39mTrue\u001b[39;49;00m)))(U)\n\u001b[1;32m    105\u001b[0m     logger\u001b[39m.\u001b[39minfo(\u001b[39m\"\u001b[39m\u001b[39mSanity check...\u001b[39m\u001b[39m\"\u001b[39m)\n\u001b[1;32m    106\u001b[0m     \u001b[39mfor\u001b[39;00m _U, _log_L \u001b[39min\u001b[39;00m \u001b[39mzip\u001b[39m(U, log_L):\n",
      "File \u001b[0;32m/opt/homebrew/anaconda3/lib/python3.9/site-packages/jaxns/model.py:87\u001b[0m, in \u001b[0;36mModel.forward\u001b[0;34m(self, U, allow_nan)\u001b[0m\n\u001b[1;32m     76\u001b[0m \u001b[39mdef\u001b[39;00m \u001b[39mforward\u001b[39m(\u001b[39mself\u001b[39m, U: UType, allow_nan: \u001b[39mbool\u001b[39m \u001b[39m=\u001b[39m \u001b[39mFalse\u001b[39;00m) \u001b[39m-\u001b[39m\u001b[39m>\u001b[39m FloatArray:\n\u001b[1;32m     77\u001b[0m     \u001b[39m\"\"\"\u001b[39;00m\n\u001b[1;32m     78\u001b[0m \u001b[39m    Compute the log-likelihood.\u001b[39;00m\n\u001b[1;32m     79\u001b[0m \n\u001b[0;32m   (...)\u001b[0m\n\u001b[1;32m     85\u001b[0m \u001b[39m        log likelihood at the sample\u001b[39;00m\n\u001b[1;32m     86\u001b[0m \u001b[39m    \"\"\"\u001b[39;00m\n\u001b[0;32m---> 87\u001b[0m     \u001b[39mreturn\u001b[39;00m compute_log_likelihood(U\u001b[39m=\u001b[39;49mU, prior_model\u001b[39m=\u001b[39;49m\u001b[39mself\u001b[39;49m\u001b[39m.\u001b[39;49mprior_model, log_likelihood\u001b[39m=\u001b[39;49m\u001b[39mself\u001b[39;49m\u001b[39m.\u001b[39;49mlog_likelihood,\n\u001b[1;32m     88\u001b[0m                                   allow_nan\u001b[39m=\u001b[39;49mallow_nan)\n",
      "File \u001b[0;32m/opt/homebrew/anaconda3/lib/python3.9/site-packages/jaxns/prior.py:386\u001b[0m, in \u001b[0;36mcompute_log_likelihood\u001b[0;34m(U, prior_model, log_likelihood, allow_nan)\u001b[0m\n\u001b[1;32m    372\u001b[0m \u001b[39m\"\"\"\u001b[39;00m\n\u001b[1;32m    373\u001b[0m \u001b[39mComputes the log likelihood from U-space sample.\u001b[39;00m\n\u001b[1;32m    374\u001b[0m \n\u001b[0;32m   (...)\u001b[0m\n\u001b[1;32m    382\u001b[0m \u001b[39m    log-likelihood\u001b[39;00m\n\u001b[1;32m    383\u001b[0m \u001b[39m\"\"\"\u001b[39;00m\n\u001b[1;32m    385\u001b[0m V \u001b[39m=\u001b[39m prepare_input(U\u001b[39m=\u001b[39mU, prior_model\u001b[39m=\u001b[39mprior_model)\n\u001b[0;32m--> 386\u001b[0m log_L \u001b[39m=\u001b[39m jnp\u001b[39m.\u001b[39masarray(log_likelihood(\u001b[39m*\u001b[39;49mV), float_type)\n\u001b[1;32m    387\u001b[0m \u001b[39mif\u001b[39;00m \u001b[39mnot\u001b[39;00m allow_nan:\n\u001b[1;32m    388\u001b[0m     log_L \u001b[39m=\u001b[39m jnp\u001b[39m.\u001b[39mwhere(jnp\u001b[39m.\u001b[39misnan(log_L), \u001b[39m-\u001b[39mjnp\u001b[39m.\u001b[39minf, log_L)\n",
      "\u001b[1;32m/Users/gaurav/Desktop/Open_Source/ProofOfConcept/Latest_files/Windowed_Prior.ipynb Cell 5\u001b[0m in \u001b[0;36mRNlog_likelihood5\u001b[0;34m(arn, crn, A, t0, sig, t_window)\u001b[0m\n\u001b[1;32m     <a href='vscode-notebook-cell:/Users/gaurav/Desktop/Open_Source/ProofOfConcept/Latest_files/Windowed_Prior.ipynb#W4sZmlsZQ%3D%3D?line=76'>77</a>\u001b[0m window_maximum \u001b[39m=\u001b[39m t_window[\u001b[39m1\u001b[39m]; b \u001b[39m=\u001b[39m jnp\u001b[39m.\u001b[39msearchsorted(Times, window_maximum)\n\u001b[1;32m     <a href='vscode-notebook-cell:/Users/gaurav/Desktop/Open_Source/ProofOfConcept/Latest_files/Windowed_Prior.ipynb#W4sZmlsZQ%3D%3D?line=77'>78</a>\u001b[0m \u001b[39mprint\u001b[39m(a)\n\u001b[0;32m---> <a href='vscode-notebook-cell:/Users/gaurav/Desktop/Open_Source/ProofOfConcept/Latest_files/Windowed_Prior.ipynb#W4sZmlsZQ%3D%3D?line=79'>80</a>\u001b[0m times \u001b[39m=\u001b[39m jax\u001b[39m.\u001b[39;49mlax\u001b[39m.\u001b[39;49mdynamic_slice(Times, (a,), (b\u001b[39m-\u001b[39;49ma,)); \n\u001b[1;32m     <a href='vscode-notebook-cell:/Users/gaurav/Desktop/Open_Source/ProofOfConcept/Latest_files/Windowed_Prior.ipynb#W4sZmlsZQ%3D%3D?line=80'>81</a>\u001b[0m count \u001b[39m=\u001b[39m jax\u001b[39m.\u001b[39mlax\u001b[39m.\u001b[39mdynamic_slice(counts, (a,), (b\u001b[39m-\u001b[39ma,))\n\u001b[1;32m     <a href='vscode-notebook-cell:/Users/gaurav/Desktop/Open_Source/ProofOfConcept/Latest_files/Windowed_Prior.ipynb#W4sZmlsZQ%3D%3D?line=81'>82</a>\u001b[0m kernel \u001b[39m=\u001b[39m get_kernel(kernel_type \u001b[39m=\u001b[39m \u001b[39m\"\u001b[39m\u001b[39mRN\u001b[39m\u001b[39m\"\u001b[39m, kernel_params \u001b[39m=\u001b[39m rnlikelihood_params)\n",
      "    \u001b[0;31m[... skipping hidden 1 frame]\u001b[0m\n",
      "File \u001b[0;32m/opt/homebrew/anaconda3/lib/python3.9/site-packages/jax/_src/core.py:2024\u001b[0m, in \u001b[0;36mcanonicalize_shape\u001b[0;34m(shape, context)\u001b[0m\n\u001b[1;32m   2022\u001b[0m \u001b[39mexcept\u001b[39;00m \u001b[39mTypeError\u001b[39;00m:\n\u001b[1;32m   2023\u001b[0m   \u001b[39mpass\u001b[39;00m\n\u001b[0;32m-> 2024\u001b[0m \u001b[39mraise\u001b[39;00m _invalid_shape_error(shape, context)\n",
      "\u001b[0;31mTypeError\u001b[0m: Shapes must be 1D sequences of concrete values of integer type, got (Traced<ShapedArray(int32[])>with<BatchTrace(level=2/0)> with\n  val = Traced<ShapedArray(int32[100])>with<DynamicJaxprTrace(level=1/0)>\n  batch_dim = 0,).\nIf using `jit`, try using `static_argnums` or applying `jit` to smaller subfunctions.\nThis BatchTracer with object id 11101559040 was created on line:\n  /var/folders/z9/d9jc5k554dl6jd5l6z3_h5f80000gn/T/ipykernel_93247/3202572062.py:80 (RNlog_likelihood5)"
     ]
    }
   ],
   "source": [
    "T = Times[-1] - Times[0]    # Total time\n",
    "f = 1/(Times[1] - Times[0]) # Sampling frequency\n",
    "min = jnp.min(counts)\n",
    "max = jnp.max(counts)\n",
    "span = max - min\n",
    "\n",
    "def RNprior_model():\n",
    "    arn = yield Prior(tfpd.Uniform(0.1*span, 2*span), name='arn') \n",
    "    crn = yield Prior(tfpd.Uniform(jnp.log(1/T), jnp.log(f)), name='crn')\n",
    "    A = yield Prior(tfpd.Uniform(0.1*span, 2*span), name='A') \n",
    "    t0 = yield Prior(tfpd.Uniform(Times[0]-0.1*T, Times[-1]+0.1*T), name='t0')\n",
    "    sig = yield Prior(tfpd.Uniform(0.5*1/f, 2*T), name='sig')\n",
    "    t_window = yield ForcedIdentifiability(n = 2, low = Times[0], high = Times[-1], name='t_window')\n",
    "    return arn, crn, A, t0, sig, t_window\n",
    "\n",
    "def RNlog_likelihood1(arn, crn, A, t0, sig):\n",
    "    rnlikelihood_params = {\"arn\": arn, \"crn\": crn,\n",
    "                        \"aqpo\": 0.0, \"cqpo\": 0.0, \"freq\": 0.0, }\n",
    "                \n",
    "    mean_params = { \"A\": A, \"t0\": t0, \"sig\": sig, }\n",
    "    \n",
    "    kernel = get_kernel(kernel_type = \"RN\", kernel_params = rnlikelihood_params)\n",
    "    mean = get_mean(mean_type = \"gaussian\",  mean_params = mean_params)\n",
    "    gp = GaussianProcess(kernel = kernel, X = Times, mean_value = mean(Times))\n",
    "    return gp.log_probability(counts)\n",
    "\n",
    "def RNlog_likelihood2(arn, crn, A, t0, sig, t_window):\n",
    "    rnlikelihood_params = {\"arn\": arn, \"crn\": crn,\n",
    "                        \"aqpo\": 0.0, \"cqpo\": 0.0, \"freq\": 0.0, }            \n",
    "    mean_params = { \"A\": A, \"t0\": t0, \"sig\": sig, }\n",
    "    window_minimum = t_window[0] # becomes a tracer value\n",
    "    window_maximum = t_window[1]\n",
    "    # Times remains a jnp array\n",
    "\n",
    "    windowed_indices = jnp.where(jnp.logical_and(window_minimum < Times, Times < window_maximum))[0]\n",
    "    # Abstract tracer value encountered where concrete value is expected\n",
    "    # Conretization type error\n",
    "    kernel = get_kernel(kernel_type = \"RN\", kernel_params = rnlikelihood_params)\n",
    "    mean = get_mean(mean_type = \"gaussian\",  mean_params = mean_params)\n",
    "    gp = GaussianProcess(kernel = kernel, X = Times[windowed_indices], mean_value = mean(Times[windowed_indices]))\n",
    "    return gp.log_probability(counts[windowed_indices])\n",
    "\n",
    "def RNlog_likelihood3(arn, crn, A, t0, sig, t_window):\n",
    "    rnlikelihood_params = {\"arn\": arn, \"crn\": crn,\n",
    "                        \"aqpo\": 0.0, \"cqpo\": 0.0, \"freq\": 0.0, }       \n",
    "    mean_params = { \"A\": A, \"t0\": t0, \"sig\": sig, }\n",
    "    window_minimum = t_window[0] # becomes a tracer value\n",
    "    window_maximum = t_window[1]\n",
    "\n",
    "    mask = jnp.logical_and(window_minimum < Times, Times < window_maximum)\n",
    "    kernel = get_kernel(kernel_type = \"RN\", kernel_params = rnlikelihood_params)\n",
    "    mean = get_mean(mean_type = \"gaussian\",  mean_params = mean_params)\n",
    "    gp = GaussianProcess(kernel = kernel, X = Times[mask], mean_value = mean(Times[mask]))\n",
    "    # numpy.ndarray conversion method __array__() was called on the JAX Tracer object Tracedwith with\n",
    "    # Tracer Array Conversion Error\n",
    "    return gp.log_probability(counts[mask])\n",
    "\n",
    "def RNlog_likelihood4(arn, crn, A, t0, sig, t_window):\n",
    "    rnlikelihood_params = {\"arn\": arn, \"crn\": crn,\n",
    "                        \"aqpo\": 0.0, \"cqpo\": 0.0, \"freq\": 0.0, }       \n",
    "    mean_params = { \"A\": A, \"t0\": t0, \"sig\": sig, }\n",
    "    window_minimum = t_window[0]; a = jnp.searchsorted(Times, window_minimum)\n",
    "    window_maximum = t_window[1]; b = jnp.searchsorted(Times, window_maximum)\n",
    "\n",
    "    kernel = get_kernel(kernel_type = \"RN\", kernel_params = rnlikelihood_params)\n",
    "    mean = get_mean(mean_type = \"gaussian\",  mean_params = mean_params)\n",
    "    gp = GaussianProcess(kernel = kernel, X = Times[a:b], mean_value = mean(Times[a:b]))\n",
    "    # The __index__() method was called on the JAX Tracer object Tracedwith\n",
    "    # TracerIntegerConversionError\n",
    "    return gp.log_probability(counts[a:b])\n",
    "\n",
    "def RNlog_likelihood5(arn, crn, A, t0, sig, t_window):\n",
    "    rnlikelihood_params = {\"arn\": arn, \"crn\": crn,\n",
    "                        \"aqpo\": 0.0, \"cqpo\": 0.0, \"freq\": 0.0, }       \n",
    "    mean_params = { \"A\": A, \"t0\": t0, \"sig\": sig, }\n",
    "    window_minimum = t_window[0]; a = jnp.searchsorted(Times, window_minimum)\n",
    "    window_maximum = t_window[1]; b = jnp.searchsorted(Times, window_maximum)\n",
    "    print(a) # a tracer value\n",
    "\n",
    "    times = jax.lax.dynamic_slice(Times, (a,), (b-a,)); # Requires concrete integer index, not tracer value\n",
    "    count = jax.lax.dynamic_slice(counts, (a,), (b-a,))\n",
    "    kernel = get_kernel(kernel_type = \"RN\", kernel_params = rnlikelihood_params)\n",
    "    mean = get_mean(mean_type = \"gaussian\",  mean_params = mean_params)\n",
    "    gp = GaussianProcess(kernel = kernel, X = times, mean_value = mean(Times))\n",
    "    # The __index__() method was called on the JAX Tracer object Tracedwith\n",
    "    # TracerIntegerConversionError\n",
    "    return gp.log_probability(count)\n",
    "\n",
    "model = Model(prior_model=RNprior_model, log_likelihood=RNlog_likelihood5)\n",
    "model.sanity_check(random.PRNGKey(10), S=100)\n"
   ]
  },
  {
   "cell_type": "code",
   "execution_count": 25,
   "metadata": {},
   "outputs": [
    {
     "name": "stdout",
     "output_type": "stream",
     "text": [
      "windowed_indices = [ 5  6  7  8  9 10 11 12 13 14 15]\n",
      "Times2[windowed_indices] = [0.20833333 0.25       0.29166667 0.33333333 0.375      0.41666667\n",
      " 0.45833333 0.5        0.54166667 0.58333333 0.625     ]\n",
      "mask:  [False False False False False  True  True  True  True  True  True  True\n",
      "  True  True  True  True False False False False False False False False\n",
      " False]\n",
      "masked times:  [0.20833333 0.25       0.29166667 0.33333333 0.375      0.41666667\n",
      " 0.45833333 0.5        0.54166667 0.58333333 0.625     ]\n",
      "a =  5 b =  16\n",
      "windowd times:  [0.20833333 0.25       0.29166667 0.33333333 0.375      0.41666667\n",
      " 0.45833333 0.5        0.54166667 0.58333333 0.625     ]\n",
      "dynamic slice: [0.20833333 0.25       0.29166667 0.33333333 0.375      0.41666667\n",
      " 0.45833333 0.5        0.54166667 0.58333333 0.625     ]\n"
     ]
    }
   ],
   "source": [
    "Times2 = jnp.linspace(0,1,25)\n",
    "window_minimum = 0.2\n",
    "window_maximum = 0.65\n",
    "\n",
    "windowed_indices = jnp.where(jnp.logical_and(window_minimum < Times2, Times2 < window_maximum))[0]\n",
    "print(f\"windowed_indices = {windowed_indices}\")\n",
    "print(f\"Times2[windowed_indices] = {Times2[windowed_indices]}\")\n",
    "\n",
    "mask = jnp.logical_and(Times2 > window_minimum, Times2 < window_maximum)\n",
    "print(\"mask: \", mask)\n",
    "print(\"masked times: \", Times2[mask])\n",
    "\n",
    "a = jnp.searchsorted(Times2, window_minimum)\n",
    "b = jnp.searchsorted(Times2, window_maximum)\n",
    "print(\"a = \", a, \"b = \", b)\n",
    "print(\"windowd times: \", Times2[a:b])\n",
    "\n",
    "print(\"dynamic slice:\", jax.lax.dynamic_slice(Times2, (a,), (b-a,)) )\n"
   ]
  }
 ],
 "metadata": {
  "kernelspec": {
   "display_name": "Python 3",
   "language": "python",
   "name": "python3"
  },
  "language_info": {
   "codemirror_mode": {
    "name": "ipython",
    "version": 3
   },
   "file_extension": ".py",
   "mimetype": "text/x-python",
   "name": "python",
   "nbconvert_exporter": "python",
   "pygments_lexer": "ipython3",
   "version": "3.9.13"
  },
  "orig_nbformat": 4
 },
 "nbformat": 4,
 "nbformat_minor": 2
}
